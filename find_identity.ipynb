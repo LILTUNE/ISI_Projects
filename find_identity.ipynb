{
 "cells": [
  {
   "cell_type": "markdown",
   "metadata": {},
   "source": [
    "P1771_Integrated Postsecondary Education Data System ID.txt\n"
   ]
  },
  {
   "cell_type": "code",
   "execution_count": null,
   "metadata": {},
   "outputs": [
    {
     "name": "stdout",
     "output_type": "stream",
     "text": [
      ".DS_Store\n"
     ]
    }
   ],
   "source": [
    "from datasketch import MinHash\n",
    "from collections import defaultdict\n",
    "import os, pickle\n",
    "\n",
    "#input IDs, return MinHash Object\n",
    "def minhash_IDs(IDs):\n",
    "\tm = MinHash()\n",
    "\tfor ID in IDs:\n",
    "\t\tm.update(ID.encode('utf-8'))\n",
    "\treturn m\n",
    "\n",
    "def compare_sim():\n",
    "\n",
    "if __name__ == \"__main__\":\n",
    "\t# iterate through this array, do minhash\n",
    "\tfilenames = os.listdir(\"./results_3.0\")\n",
    "\tminhash_list = []\n",
    "\trank_list = []\n",
    "\tfor idx,filename in enumerate(filenames):\n",
    "\t\tcur_file = open('./results_3.0/' + filename,'r')\n",
    "\t\ttry:\n",
    "\t\t\tcur_ids = cur_file.read().split('\\n')\n",
    "\t\t\tcur_file.close()\n",
    "\t\t\tminhash_list.append((minhash_IDs(cur_ids),filename))\n",
    "\t\texcept:\n",
    "\t\t\tprint(filename)\n",
    "\t\tcur_file.close()\n",
    "\t\tif(idx>300):\n",
    "\t\t\tbreak\n",
    "\n",
    "\t# provide a filename, then compare jaccard similarity with all of the files\n",
    "\t#filename = 'P5942_Protected objects Ostbelgien ID.txt'\n",
    "\t#cur_file = open('./results_2.0/' + filename,'r')\n",
    "\t#cur_file = open('/Users/tong/Desktop/missing_results/P846_Global Biodiversity Information Facility ID.txt','r')\n",
    "\tcur_file = open('./test.txt','r')\n",
    "\tcur_ids = cur_file.read().split('\\n')\n",
    "\tcur_m = minhash_IDs(cur_ids)\n",
    "\tcur_file.close()\n",
    "\tfor mHash, name in minhash_list:\n",
    "\t\tsimilarity = cur_m.jaccard(mHash)\n",
    "\t\trank_list.append((similarity, name))\n",
    "\trank_list.sort(reverse = True)\n",
    "\tfor sim, fname in rank_list[:5]:\n",
    "\t\tprint('similarity : '+str(sim)+' name: '+fname)\n",
    "\n",
    "    \n",
    "\n",
    "\n",
    "''' references\n",
    "\n",
    "https://ekzhu.github.io/datasketch/minhash.html\n",
    "https://blog.csdn.net/lsq2902101015/article/details/51305825\n",
    "https://python3-cookbook.readthedocs.io/zh_CN/latest/c05/p21_serializing_python_objects.html\n",
    "https://blog.csdn.net/Lycoridiata/article/details/78536768\n",
    "'''\n",
    "'''store_minhash(minhash_list,'minhash_list.pkl')\n",
    "f = open('minhash_list.pkl', 'rb')\n",
    "minhash_list2 = pickle.loads(f)\n",
    "print(minhash_list2)\n",
    "f.close()'''\n",
    "# store minhash list into pickle\n",
    "# def store_minhash(data, file_name):\n",
    "# \tf = open(file_name, \"wb\")\n",
    "# \tpickle.dump(data, f)\n"
   ]
  },
  {
   "cell_type": "markdown",
   "metadata": {},
   "source": [
    "## useful files:\n",
    "### seed-problems/college-debt/OPEID.csv\n",
    "### seed-problems/college-debt/peps304.xlsx\n",
    "### seed-problems/housing-burden/census/P1_County_1yr_interim.xlsx\n",
    "### seed-problems/poverty-estimation/data_gov⁩/Education.xls\n",
    "### seed-problems/poverty-estimation/data_gov⁩/PopulationEstimates.xls\n",
    "### seed-problems/poverty-estimation/data_gov⁩/PovertyEstimates.xls\n",
    "### seed-problems/poverty-estimation/data_gov⁩/Unemployment.xls"
   ]
  },
  {
   "cell_type": "code",
   "execution_count": 21,
   "metadata": {},
   "outputs": [],
   "source": [
    "import pandas as pd\n",
    "from datasketch import MinHash"
   ]
  },
  {
   "cell_type": "code",
   "execution_count": 11,
   "metadata": {},
   "outputs": [
    {
     "data": {
      "text/html": [
       "<div>\n",
       "<style scoped>\n",
       "    .dataframe tbody tr th:only-of-type {\n",
       "        vertical-align: middle;\n",
       "    }\n",
       "\n",
       "    .dataframe tbody tr th {\n",
       "        vertical-align: top;\n",
       "    }\n",
       "\n",
       "    .dataframe thead th {\n",
       "        text-align: right;\n",
       "    }\n",
       "</style>\n",
       "<table border=\"1\" class=\"dataframe\">\n",
       "  <thead>\n",
       "    <tr style=\"text-align: right;\">\n",
       "      <th></th>\n",
       "      <th>OPEID8</th>\n",
       "      <th>Name</th>\n",
       "      <th>Address</th>\n",
       "      <th>City</th>\n",
       "      <th>State</th>\n",
       "      <th>Zip</th>\n",
       "      <th>IPED6</th>\n",
       "      <th>Web</th>\n",
       "      <th>OPEID6</th>\n",
       "    </tr>\n",
       "  </thead>\n",
       "  <tbody>\n",
       "    <tr>\n",
       "      <th>0</th>\n",
       "      <td>00100200</td>\n",
       "      <td>Alabama A &amp; M University</td>\n",
       "      <td>4900 Meridian St</td>\n",
       "      <td>Normal</td>\n",
       "      <td>AL</td>\n",
       "      <td>35762</td>\n",
       "      <td>100654.0</td>\n",
       "      <td>www.aamu.edu/</td>\n",
       "      <td>1002.0</td>\n",
       "    </tr>\n",
       "    <tr>\n",
       "      <th>1</th>\n",
       "      <td>00100300</td>\n",
       "      <td>Faulkner University</td>\n",
       "      <td>5345 Atlanta Hwy</td>\n",
       "      <td>Montgomery</td>\n",
       "      <td>AL</td>\n",
       "      <td>36109-3378</td>\n",
       "      <td>101189.0</td>\n",
       "      <td>www.faulkner.edu</td>\n",
       "      <td>1003.0</td>\n",
       "    </tr>\n",
       "    <tr>\n",
       "      <th>2</th>\n",
       "      <td>00100400</td>\n",
       "      <td>University of Montevallo</td>\n",
       "      <td>Station 6001</td>\n",
       "      <td>Montevallo</td>\n",
       "      <td>AL</td>\n",
       "      <td>35115</td>\n",
       "      <td>101709.0</td>\n",
       "      <td>www.montevallo.edu</td>\n",
       "      <td>1004.0</td>\n",
       "    </tr>\n",
       "    <tr>\n",
       "      <th>3</th>\n",
       "      <td>00100500</td>\n",
       "      <td>Alabama State University</td>\n",
       "      <td>915 S Jackson Street</td>\n",
       "      <td>Montgomery</td>\n",
       "      <td>AL</td>\n",
       "      <td>36104</td>\n",
       "      <td>100724.0</td>\n",
       "      <td>www.alasu.edu</td>\n",
       "      <td>1005.0</td>\n",
       "    </tr>\n",
       "    <tr>\n",
       "      <th>4</th>\n",
       "      <td>00100700</td>\n",
       "      <td>Central Alabama Community College</td>\n",
       "      <td>1675 Cherokee Road</td>\n",
       "      <td>Alexander City</td>\n",
       "      <td>AL</td>\n",
       "      <td>35010</td>\n",
       "      <td>100760.0</td>\n",
       "      <td>www.cacc.edu</td>\n",
       "      <td>1007.0</td>\n",
       "    </tr>\n",
       "  </tbody>\n",
       "</table>\n",
       "</div>"
      ],
      "text/plain": [
       "     OPEID8                               Name               Address  \\\n",
       "0  00100200           Alabama A & M University      4900 Meridian St   \n",
       "1  00100300                Faulkner University      5345 Atlanta Hwy   \n",
       "2  00100400           University of Montevallo          Station 6001   \n",
       "3  00100500           Alabama State University  915 S Jackson Street   \n",
       "4  00100700  Central Alabama Community College    1675 Cherokee Road   \n",
       "\n",
       "             City State         Zip     IPED6                 Web  OPEID6  \n",
       "0          Normal    AL       35762  100654.0       www.aamu.edu/  1002.0  \n",
       "1      Montgomery    AL  36109-3378  101189.0    www.faulkner.edu  1003.0  \n",
       "2      Montevallo    AL       35115  101709.0  www.montevallo.edu  1004.0  \n",
       "3      Montgomery    AL       36104  100724.0       www.alasu.edu  1005.0  \n",
       "4  Alexander City    AL       35010  100760.0        www.cacc.edu  1007.0  "
      ]
     },
     "execution_count": 11,
     "metadata": {},
     "output_type": "execute_result"
    }
   ],
   "source": [
    "data = pd.read_csv('seed-problems/college-debt/OPEID.csv',encoding=\"utf-8\")\n",
    "data.head()"
   ]
  },
  {
   "cell_type": "code",
   "execution_count": 20,
   "metadata": {},
   "outputs": [],
   "source": [
    "col_names = data.columns.tolist()\n",
    "for col_name in col_names:\n",
    "    data[col_name].head()\n",
    "    cur_m = MinHash()\n",
    "    "
   ]
  },
  {
   "cell_type": "code",
   "execution_count": 22,
   "metadata": {},
   "outputs": [
    {
     "name": "stdout",
     "output_type": "stream",
     "text": [
      "<class 'bytes'>\n"
     ]
    }
   ],
   "source": [
    "from datasketch import MinHash\n",
    "import pickle\n",
    "\n",
    "def minhash_IDs(IDs):\n",
    "\tm = MinHash()\n",
    "\tfor ID in IDs:\n",
    "\t\tm.update(ID.encode('utf-8'))\n",
    "\treturn m\n",
    "test_list = ['1','2','3','4','5','6','7','8']\n",
    "minhash = minhash_IDs(test_list)\n",
    "f = open(\"test_list.pkl\", \"wb\")\n",
    "#data = pickle.dump(minhash,f)\n",
    "data = pickle.dumps([minhash,minhash,minhash])\n",
    "print(type(data))\n",
    "f_write = open('test_list', 'wb+')\n",
    "f_write.write(data)\n",
    "f_write.close()"
   ]
  },
  {
   "cell_type": "code",
   "execution_count": 19,
   "metadata": {},
   "outputs": [
    {
     "name": "stdout",
     "output_type": "stream",
     "text": [
      "[<datasketch.minhash.MinHash object at 0x150c74e278>, <datasketch.minhash.MinHash object at 0x150c74e278>, <datasketch.minhash.MinHash object at 0x150c74e278>]\n"
     ]
    }
   ],
   "source": [
    "a=pickle.loads(data)\n",
    "print(a)"
   ]
  },
  {
   "cell_type": "code",
   "execution_count": 30,
   "metadata": {},
   "outputs": [
    {
     "name": "stdout",
     "output_type": "stream",
     "text": [
      "[<datasketch.minhash.MinHash object at 0x150c77fa20>, <datasketch.minhash.MinHash object at 0x150c77fa20>, <datasketch.minhash.MinHash object at 0x150c77fa20>]\n",
      "[<datasketch.minhash.MinHash object at 0x150c74c390>, <datasketch.minhash.MinHash object at 0x150c74c390>, <datasketch.minhash.MinHash object at 0x150c74c390>]\n"
     ]
    }
   ],
   "source": [
    "f2 = open(\"test_list\", \"rb\")\n",
    "#print(f2)\n",
    "a = pickle.loads(f2.read())\n",
    "print(a)\n",
    "print([minhash,minhash,minhash])"
   ]
  },
  {
   "cell_type": "code",
   "execution_count": 32,
   "metadata": {},
   "outputs": [
    {
     "data": {
      "text/plain": [
       "1.0"
      ]
     },
     "execution_count": 32,
     "metadata": {},
     "output_type": "execute_result"
    }
   ],
   "source": [
    "import pickle\n",
    "def save_minhash_array(minhash_array):\n",
    "    f = open(\"test_list.pkl\", \"wb\")\n",
    "    data = pickle.dumps(minhash_array)\n",
    "    f_write.close()"
   ]
  },
  {
   "cell_type": "code",
   "execution_count": null,
   "metadata": {},
   "outputs": [],
   "source": []
  }
 ],
 "metadata": {
  "kernelspec": {
   "display_name": "Python 3",
   "language": "python",
   "name": "python3"
  },
  "language_info": {
   "codemirror_mode": {
    "name": "ipython",
    "version": 3
   },
   "file_extension": ".py",
   "mimetype": "text/x-python",
   "name": "python",
   "nbconvert_exporter": "python",
   "pygments_lexer": "ipython3",
   "version": "3.6.4"
  }
 },
 "nbformat": 4,
 "nbformat_minor": 2
}
